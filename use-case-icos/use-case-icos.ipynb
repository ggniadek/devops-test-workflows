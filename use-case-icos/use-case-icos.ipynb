{
 "cells": [
  {
   "cell_type": "markdown",
   "metadata": {},
   "source": [
    "<img src='https://www.icos-cp.eu/sites/default/files/2017-11/ICOS_CP_logo.png' width=400 align=right>\n",
    "<img src='https://naavre.net/img/hero-light.svg' width=200 align=right>\n",
    "\n",
    "\n",
    "# ICOS Carbon Portal Python Library in NaaVRE"
   ]
  },
  {
   "cell_type": "markdown",
   "metadata": {},
   "source": [
    "## Documentation\n",
    "\n",
    "- [ICOS Carboon Portal Python Library](https://icos-carbon-portal.github.io/pylib/)\n",
    "- [NaaVRE](https://qcdis.github.io/NaaVRE-website/) (Notebook as a Virtual Research Environment)"
   ]
  },
  {
   "cell_type": "markdown",
   "metadata": {},
   "source": [
    "## Install libraries"
   ]
  },
  {
   "cell_type": "code",
   "execution_count": null,
   "metadata": {
    "tags": []
   },
   "outputs": [],
   "source": [
    "!pip install icoscp==0.2.2 icoscp_core==0.3.9 matplotlib python-slugify"
   ]
  },
  {
   "cell_type": "markdown",
   "metadata": {},
   "source": [
    "## NaaVRE workflow parameters\n",
    "\n",
    "To get an ICOS API token for `param_cpauth_token`: go to https://cpauth.icos-cp.eu, login (creating an account if needed), accept the ICOS data license, and copy the API token at the bottom of the page (`cpauthToken=xyzABC...`)."
   ]
  },
  {
   "cell_type": "code",
   "execution_count": null,
   "metadata": {},
   "outputs": [],
   "source": [
    "# (Do not containerize, NaaVRE workflow parameters cell)\n",
    "\n",
    "param_cpauth_token = ''\n",
    "\n",
    "param_ecosystem_type = 'Wetland'\n",
    "param_data_type = 'ETC L2 Fluxes'\n",
    "param_variable = 'CO2'"
   ]
  },
  {
   "cell_type": "markdown",
   "metadata": {
    "tags": []
   },
   "source": [
    " ## List stationss"
   ]
  },
  {
   "cell_type": "code",
   "execution_count": null,
   "metadata": {},
   "outputs": [],
   "source": [
    "# use-case-icos-list-stations\n",
    "# ---\n",
    "# NaaVRE:\n",
    "#  cell:\n",
    "#   inputs: []\n",
    "#   outputs:\n",
    "#    - stations_id_list: List\n",
    "#   params:\n",
    "#    - param_ecosystem_type:\n",
    "#       type: String\n",
    "#       default_value: \"Wetland\"\n",
    "#   secrets: []\n",
    "#   confs: []\n",
    "#   dependencies:\n",
    "#    - module: icoscp.station\n",
    "#      name: station\n",
    "# ...\n",
    "\n",
    "from icoscp.station import station\n",
    "\n",
    "print(\"Hello world\")\n",
    "stations = station.getIdList()\n",
    "stations = stations[stations.siteType == param_ecosystem_type]\n",
    "stations_id_list = list(stations.id)\n",
    "\n",
    "stations_id_list"
   ]
  },
  {
   "cell_type": "markdown",
   "metadata": {},
   "source": [
    "## List data products"
   ]
  },
  {
   "cell_type": "code",
   "execution_count": null,
   "metadata": {},
   "outputs": [],
   "source": [
    "# use-case-icos-list-data-products\n",
    "# ---\n",
    "# NaaVRE:\n",
    "#  cell:\n",
    "#   inputs:\n",
    "#    - stations_id_list: List\n",
    "#   outputs:\n",
    "#    - dobj_list: List\n",
    "#   params:\n",
    "#    - param_data_type:\n",
    "#       type: String\n",
    "#       default_value: \"ETC L2 Fluxes\"\n",
    "#   secrets: []\n",
    "#   confs: []\n",
    "#   dependencies:\n",
    "#    - module: icoscp.station\n",
    "#      name: station\n",
    "#    - name: warnings\n",
    "# ...\n",
    "\n",
    "import warnings\n",
    "import pandas as pd\n",
    "\n",
    "dobj_list = []\n",
    "for station_id in stations_id_list:\n",
    "    with warnings.catch_warnings():\n",
    "        warnings.simplefilter(\"ignore\")\n",
    "        s = station.get(station_id)\n",
    "        datasets = s.data()\n",
    "    if isinstance(datasets, str) and (datasets == 'no data available'):\n",
    "        print(f'No datasets for station {station_id}')\n",
    "        continue\n",
    "    datasets = datasets[datasets.specLabel == param_data_type]\n",
    "    dobj_list += list(datasets.dobj)\n",
    "\n",
    "dobj_list"
   ]
  },
  {
   "cell_type": "markdown",
   "metadata": {},
   "source": [
    "## Plot data"
   ]
  },
  {
   "cell_type": "code",
   "execution_count": null,
   "metadata": {},
   "outputs": [],
   "source": [
    "# use-case-icos-plot-time-series\n",
    "# ---\n",
    "# NaaVRE:\n",
    "#  cell:\n",
    "#   inputs:\n",
    "#    - dobj_list: List\n",
    "#   outputs:\n",
    "#    - plot_files: List\n",
    "#   params:\n",
    "#    - param_cpauth_token:\n",
    "#       type: String\n",
    "#    - param_variable:\n",
    "#       type: String\n",
    "#       default_value: \"CO2\"\n",
    "#   secrets: []\n",
    "#   confs: []\n",
    "#   dependencies:\n",
    "#     - module: icoscp.cpb.dobj\n",
    "#       name: Dobj\n",
    "#     - module: icoscp_core.icos\n",
    "#       name: bootstrap\n",
    "#     - module: icoscp\n",
    "#       name: cpauth\n",
    "#     - name: matplotlib.pyplot\n",
    "#       asname: plt\n",
    "#     - name: slugify\n",
    "# ...\n",
    "\n",
    "from icoscp_core.icos import bootstrap\n",
    "from icoscp import cpauth\n",
    "from icoscp.cpb.dobj import Dobj\n",
    "import matplotlib.pyplot as plt\n",
    "import slugify\n",
    "\n",
    "meta, data = bootstrap.fromCookieToken(param_cpauth_token)\n",
    "cpauth.init_by(data.auth)\n",
    "\n",
    "\n",
    "plot_files = []\n",
    "for dobj_pid in dobj_list:\n",
    "    dobj = Dobj(dobj_pid)\n",
    "    unit = dobj.variables[dobj.variables.name == param_variable].unit.values[0]\n",
    "    name = dobj.station['org']['name']\n",
    "    uri = dobj.station['org']['self']['uri']\n",
    "    title = f\"{name} \\n {uri}\"\n",
    "    plot = dobj.data.plot(x='TIMESTAMP', y=param_variable, grid=True, title=title)\n",
    "    plot.set(ylabel=unit)\n",
    "    filename = f'/tmp/data/{slugify.slugify(dobj_pid)}.pdf'\n",
    "    plt.savefig(filename)\n",
    "    plot_files.append(filename)\n",
    "    plt.show()\n",
    "\n",
    "plot_files"
   ]
  },
  {
   "cell_type": "markdown",
   "metadata": {},
   "source": [
    "## Upload plots (optional)\n",
    "\n",
    "To retrieve the generated files after the workflow has completed, they need to be uploaded to a persistent storage location. For testing purposes, we provide a S3-compatible MinIO server.\n",
    "\n",
    "Follow this [tutorial](https://docs.google.com/presentation/d/112Vs-vsOonVq1TlC4WprzWR6s9XntOBGgoFGbbT_FDg) (part \"Minio Setup\", slide 2 to 9) to generate `param_s3_user_prefix`, `param_s3_access_key` and `param_s3_secret_key`."
   ]
  },
  {
   "cell_type": "markdown",
   "metadata": {},
   "source": [
    "# (Do not containerize, NaaVRE workflow parameters cell)\n",
    "\n",
    "param_s3_server = \"scruffy.lab.uvalight.net:9000\"\n",
    "param_s3_bucket = \"naa-vre-user-data\"\n",
    "\n",
    "param_s3_user_prefix = \"\"\n",
    "param_s3_access_key = \"\"\n",
    "param_s3_secret_key = \"\""
   ]
  },
  {
   "cell_type": "markdown",
   "metadata": {},
   "source": [
    "# use-case-icos-upload-files\n",
    "# ---\n",
    "# NaaVRE:\n",
    "#  cell:\n",
    "#   inputs:\n",
    "#    - plot_files: List\n",
    "#   outputs: []\n",
    "#   params:\n",
    "#    - param_s3_server:\n",
    "#       type: String\n",
    "#       default_value: \"scruffy.lab.uvalight.net:9000\"\n",
    "#    - param_s3_bucket:\n",
    "#       type: String\n",
    "#       default_value: \"naa-vre-user-data\"\n",
    "#    - param_s3_user_prefix:\n",
    "#       type: String\n",
    "#    - param_s3_access_key:\n",
    "#       type: String\n",
    "#    - param_s3_secret_key:\n",
    "#       type: String\n",
    "#   secrets: []\n",
    "#   confs: []\n",
    "#   dependencies:\n",
    "#     - module: minio\n",
    "#       name: Minio\n",
    "#     - name: os\n",
    "# ...\n",
    "\n",
    "import os\n",
    "from minio import Minio\n",
    "\n",
    "minio_client = Minio(param_s3_server, access_key=param_s3_access_key, secret_key=param_s3_secret_key, secure=True)\n",
    "\n",
    "for plot_file  in plot_files:\n",
    "    print(\"Uploading\", plot_file)\n",
    "    object_name = f'{param_s3_user_prefix}/vl-openlab/icos-naavre-demo/{os.path.basename(plot_file)}'\n",
    "    minio_client.fput_object(param_s3_bucket, object_name=object_name, file_path=plot_file)"
   ]
  }
 ],
 "metadata": {
  "kernelspec": {
   "display_name": "Python 3 (ipykernel)",
   "language": "python",
   "name": "python3"
  },
  "language_info": {
   "codemirror_mode": {
    "name": "ipython",
    "version": 3
   },
   "file_extension": ".py",
   "mimetype": "text/x-python",
   "name": "python",
   "nbconvert_exporter": "python",
   "pygments_lexer": "ipython3",
   "version": "3.11.9"
  },
  "toc": {
   "base_numbering": 1,
   "nav_menu": {},
   "number_sections": false,
   "sideBar": true,
   "skip_h1_title": false,
   "title_cell": "Table of Contents",
   "title_sidebar": "Contents",
   "toc_cell": false,
   "toc_position": {
    "height": "calc(100% - 180px)",
    "left": "10px",
    "top": "150px",
    "width": "205.075px"
   },
   "toc_section_display": true,
   "toc_window_display": true
  }
 },
 "nbformat": 4,
 "nbformat_minor": 4
}
