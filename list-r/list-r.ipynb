{
 "cells": [
  {
   "cell_type": "code",
   "execution_count": 1,
   "id": "6ea2c7d0-4c38-4418-94e6-863479e87386",
   "metadata": {},
   "outputs": [],
   "source": [
    "# (do not containerize)\n",
    "param_greeting_template = \"Hello, %s!\""
   ]
  },
  {
   "cell_type": "code",
   "execution_count": 2,
   "id": "0a3e62ea-7f21-4877-b622-ca59b2c7d4cc",
   "metadata": {},
   "outputs": [],
   "source": [
    "# list-r-set\n",
    "# ---\n",
    "# NaaVRE:\n",
    "#  cell:\n",
    "#   inputs: []\n",
    "#   outputs:\n",
    "#    - names: List\n",
    "#   params: []\n",
    "#   secrets: []\n",
    "#   confs: []\n",
    "#   dependencies: []\n",
    "# ...\n",
    "names = list(\"Alice\", \"Bob\")"
   ]
  },
  {
   "cell_type": "code",
   "execution_count": 3,
   "id": "3d6c54aa-39bc-4ade-9032-e5a108eb6fde",
   "metadata": {},
   "outputs": [],
   "source": [
    "# list-r-process\n",
    "# ---\n",
    "# NaaVRE:\n",
    "#  cell:\n",
    "#   inputs:\n",
    "#    - names: List\n",
    "#   outputs:\n",
    "#    - greetings: List\n",
    "#   params:\n",
    "#    - param_greeting_template:\n",
    "#       type: String\n",
    "#       default_value: \"Hello, %s!\"\n",
    "#   secrets: []\n",
    "#   confs: []\n",
    "#   dependencies: []\n",
    "# ...\n",
    "greetings = list()\n",
    "i = 1\n",
    "while (i <= length(names)) {\n",
    "    greetings[[i]] = sprintf(param_greeting_template, names[i])\n",
    "    i = i + 1\n",
    "}"
   ]
  },
  {
   "cell_type": "code",
   "execution_count": 4,
   "id": "6c739f00-9a4c-40a0-bc75-3087dd3f6757",
   "metadata": {},
   "outputs": [
    {
     "name": "stdout",
     "output_type": "stream",
     "text": [
      "[[1]]\n",
      "[1] \"Hello, Alice!\"\n",
      "\n",
      "[[2]]\n",
      "[1] \"Hello, Bob!\"\n",
      "\n"
     ]
    }
   ],
   "source": [
    "# list-r-get\n",
    "# ---\n",
    "# NaaVRE:\n",
    "#  cell:\n",
    "#   inputs:\n",
    "#    - greetings: List\n",
    "#   outputs: []\n",
    "#   params: []\n",
    "#   secrets: []\n",
    "#   confs: []\n",
    "#   dependencies: []\n",
    "# ...\n",
    "print(greetings)"
   ]
  }
 ],
 "metadata": {
  "kernelspec": {
   "display_name": "R",
   "language": "R",
   "name": "ir"
  },
  "language_info": {
   "codemirror_mode": "r",
   "file_extension": ".r",
   "mimetype": "text/x-r-source",
   "name": "R",
   "pygments_lexer": "r",
   "version": "4.3.3"
  }
 },
 "nbformat": 4,
 "nbformat_minor": 5
}
