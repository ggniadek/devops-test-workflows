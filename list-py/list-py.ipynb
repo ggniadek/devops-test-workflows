{
 "cells": [
  {
   "cell_type": "code",
   "execution_count": 1,
   "id": "6ea2c7d0-4c38-4418-94e6-863479e87386",
   "metadata": {},
   "outputs": [],
   "source": [
    "# (do not containerize)\n",
    "param_greeting_template = \"Hello, {}!\""
   ]
  },
  {
   "cell_type": "code",
   "execution_count": 2,
   "id": "0a3e62ea-7f21-4877-b622-ca59b2c7d4cc",
   "metadata": {},
   "outputs": [],
   "source": [
    "# list-py-set\n",
    "# ---\n",
    "# NaaVRE:\n",
    "#  cell:\n",
    "#   inputs: []\n",
    "#   outputs:\n",
    "#    - names: List\n",
    "#   params: []\n",
    "#   secrets: []\n",
    "#   confs: []\n",
    "#   dependencies: []\n",
    "# ...\n",
    "names = [\"Alice\", \"Bob\"]"
   ]
  },
  {
   "cell_type": "code",
   "execution_count": 3,
   "id": "3d6c54aa-39bc-4ade-9032-e5a108eb6fde",
   "metadata": {},
   "outputs": [],
   "source": [
    "# list-py-process\n",
    "# ---\n",
    "# NaaVRE:\n",
    "#  cell:\n",
    "#   inputs:\n",
    "#    - names: List\n",
    "#   outputs:\n",
    "#    - greetings: List\n",
    "#   params:\n",
    "#    - param_greeting_template:\n",
    "#       type: String\n",
    "#       default_value: \"Hello, {}!\"\n",
    "#   secrets: []\n",
    "#   confs: []\n",
    "#   dependencies: []\n",
    "# ...\n",
    "greetings = []\n",
    "for name in names:\n",
    "    greetings.append(param_greeting_template.format(name))"
   ]
  },
  {
   "cell_type": "code",
   "execution_count": 4,
   "id": "6c739f00-9a4c-40a0-bc75-3087dd3f6757",
   "metadata": {},
   "outputs": [
    {
     "name": "stdout",
     "output_type": "stream",
     "text": [
      "['Hello, Alice!', 'Hello, Bob!']\n"
     ]
    }
   ],
   "source": [
    "# list-py-get\n",
    "# ---\n",
    "# NaaVRE:\n",
    "#  cell:\n",
    "#   inputs:\n",
    "#    - greetings: List\n",
    "#   outputs: []\n",
    "#   params: []\n",
    "#   secrets: []\n",
    "#   confs: []\n",
    "#   dependencies: []\n",
    "# ...\n",
    "print(greetings)"
   ]
  }
 ],
 "metadata": {
  "kernelspec": {
   "display_name": "Python 3 (ipykernel)",
   "language": "python",
   "name": "python3"
  },
  "language_info": {
   "codemirror_mode": {
    "name": "ipython",
    "version": 3
   },
   "file_extension": ".py",
   "mimetype": "text/x-python",
   "name": "python",
   "nbconvert_exporter": "python",
   "pygments_lexer": "ipython3",
   "version": "3.11.9"
  }
 },
 "nbformat": 4,
 "nbformat_minor": 5
}
